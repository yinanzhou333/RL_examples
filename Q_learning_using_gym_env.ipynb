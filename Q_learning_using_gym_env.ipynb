{
 "cells": [
  {
   "cell_type": "code",
   "execution_count": 1,
   "id": "ac14955a",
   "metadata": {},
   "outputs": [],
   "source": [
    "import numpy as np\n",
    "import gym"
   ]
  },
  {
   "cell_type": "code",
   "execution_count": 2,
   "id": "e643c805",
   "metadata": {},
   "outputs": [],
   "source": [
    "# Create the FrozenLake environment\n",
    "env = gym.make('FrozenLake-v1')\n",
    "\n",
    "# Q-learning parameters\n",
    "num_episodes = 1000\n",
    "learning_rate = 0.8\n",
    "discount_factor = 0.95\n",
    "epsilon = 0.2"
   ]
  },
  {
   "cell_type": "code",
   "execution_count": 3,
   "id": "192ecb0c",
   "metadata": {},
   "outputs": [
    {
     "name": "stdout",
     "output_type": "stream",
     "text": [
      "[[0. 0. 0. 0.]\n",
      " [0. 0. 0. 0.]\n",
      " [0. 0. 0. 0.]\n",
      " [0. 0. 0. 0.]\n",
      " [0. 0. 0. 0.]\n",
      " [0. 0. 0. 0.]\n",
      " [0. 0. 0. 0.]\n",
      " [0. 0. 0. 0.]\n",
      " [0. 0. 0. 0.]\n",
      " [0. 0. 0. 0.]\n",
      " [0. 0. 0. 0.]\n",
      " [0. 0. 0. 0.]\n",
      " [0. 0. 0. 0.]\n",
      " [0. 0. 0. 0.]\n",
      " [0. 0. 0. 0.]\n",
      " [0. 0. 0. 0.]]\n"
     ]
    }
   ],
   "source": [
    "# Initialize Q-table with zeros\n",
    "num_states = env.observation_space.n\n",
    "num_actions = env.action_space.n\n",
    "Q_table = np.zeros((num_states, num_actions))\n",
    "print(Q_table)"
   ]
  },
  {
   "cell_type": "code",
   "execution_count": 28,
   "id": "e48854a9",
   "metadata": {},
   "outputs": [],
   "source": [
    "# Q-learning algorithm\n",
    "for episode in range(num_episodes):\n",
    "    state = env.reset() # a tuple with an int and a probability.\n",
    "    state = state[0] \n",
    "    done = False\n",
    "\n",
    "    while not done:\n",
    "        # Choose an action using epsilon-greedy policy\n",
    "        if np.random.rand() < epsilon:\n",
    "            action = env.action_space.sample()  # Explore\n",
    "        else:\n",
    "            action = np.argmax(Q_table[state, :])  # Exploit\n",
    "        # Take the chosen action and observe the new state and reward\n",
    "        #next_state, reward, done, _ = env.step(action)\n",
    "        next_state, reward, done, _, _ = env.step(action)\n",
    "        # Update Q-value using the Q-learning update rule\n",
    "        Q_table[state, action] = (1 - learning_rate) * Q_table[state, action] + \\\n",
    "                                 learning_rate * (reward + discount_factor * np.max(Q_table[next_state, :]))\n",
    "\n",
    "        # Move to the next state\n",
    "        state = next_state\n"
   ]
  },
  {
   "cell_type": "code",
   "execution_count": 29,
   "id": "f1c3abf4",
   "metadata": {
    "scrolled": true
   },
   "outputs": [
    {
     "name": "stdout",
     "output_type": "stream",
     "text": [
      "[[1.72684307e-01 1.91805771e-01 2.02082609e-01 1.96969094e-01]\n",
      " [7.73077241e-03 6.82028104e-06 3.37133157e-03 3.81720859e-01]\n",
      " [8.27150842e-02 8.64136178e-02 4.32101721e-01 1.55793956e-01]\n",
      " [6.27907743e-02 2.94899038e-01 6.26203255e-02 7.25060483e-02]\n",
      " [1.15017821e-01 2.51613841e-02 3.13363856e-02 8.39105777e-02]\n",
      " [0.00000000e+00 0.00000000e+00 0.00000000e+00 0.00000000e+00]\n",
      " [1.36680099e-01 8.71533733e-03 4.87738330e-01 1.84347423e-04]\n",
      " [0.00000000e+00 0.00000000e+00 0.00000000e+00 0.00000000e+00]\n",
      " [9.68730351e-02 8.93720453e-02 4.07737453e-03 9.39308304e-02]\n",
      " [1.81978682e-02 1.31244196e-01 6.54023988e-02 2.37262063e-02]\n",
      " [6.99171402e-01 6.24885011e-03 8.58719381e-03 3.28397731e-02]\n",
      " [0.00000000e+00 0.00000000e+00 0.00000000e+00 0.00000000e+00]\n",
      " [0.00000000e+00 0.00000000e+00 0.00000000e+00 0.00000000e+00]\n",
      " [8.45073181e-02 1.76639825e-02 7.83859683e-01 1.50195964e-01]\n",
      " [2.58081935e-01 6.80487325e-01 7.26876701e-01 9.94440097e-01]\n",
      " [0.00000000e+00 0.00000000e+00 0.00000000e+00 0.00000000e+00]]\n"
     ]
    }
   ],
   "source": [
    "print(Q_table)"
   ]
  },
  {
   "cell_type": "code",
   "execution_count": 31,
   "id": "36733912",
   "metadata": {},
   "outputs": [
    {
     "name": "stdout",
     "output_type": "stream",
     "text": [
      "Average reward over 100 episodes: 0.04\n"
     ]
    }
   ],
   "source": [
    "# Evaluate the trained agent\n",
    "total_reward = 0\n",
    "num_episodes_eval = 100\n",
    "\n",
    "for _ in range(num_episodes_eval):\n",
    "    state = env.reset()\n",
    "    state = state[0] \n",
    "    done = False\n",
    "\n",
    "    while not done:\n",
    "        action = np.argmax(Q_table[state, :])\n",
    "        state, reward, done, _, _ = env.step(action)\n",
    "        total_reward += reward\n",
    "\n",
    "average_reward = total_reward / num_episodes_eval\n",
    "print(f\"Average reward over {num_episodes_eval} episodes: {average_reward}\")\n",
    "\n",
    "# Close the environment\n",
    "env.close()"
   ]
  },
  {
   "cell_type": "code",
   "execution_count": null,
   "id": "738a61e0",
   "metadata": {},
   "outputs": [],
   "source": []
  }
 ],
 "metadata": {
  "kernelspec": {
   "display_name": "Python 3 (ipykernel)",
   "language": "python",
   "name": "python3"
  },
  "language_info": {
   "codemirror_mode": {
    "name": "ipython",
    "version": 3
   },
   "file_extension": ".py",
   "mimetype": "text/x-python",
   "name": "python",
   "nbconvert_exporter": "python",
   "pygments_lexer": "ipython3",
   "version": "3.11.5"
  }
 },
 "nbformat": 4,
 "nbformat_minor": 5
}
